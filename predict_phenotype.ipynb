{
 "cells": [
  {
   "cell_type": "code",
   "execution_count": 95,
   "metadata": {},
   "outputs": [],
   "source": [
    "import pandas as pd\n",
    "import numpy as np \n",
    "from sklearn.ensemble import RandomForestClassifier\n",
    "from sklearn.model_selection import train_test_split\n",
    "from sklearn.model_selection import LeaveOneOut\n",
    "from sklearn.metrics import roc_auc_score, roc_curve\n",
    "from sklearn.model_selection import cross_val_score\n",
    "import matplotlib.pyplot as plt\n",
    "%matplotlib inline"
   ]
  },
  {
   "cell_type": "code",
   "execution_count": 96,
   "metadata": {},
   "outputs": [],
   "source": [
    "def read_merge(otu, alpha_div, mapping, alpha_metric=\"Shannon.effective\", mapping_classes=\"Phenotype\"):\n",
    "    otu_table = pd.read_table(otu, header=0, index_col=0).T\n",
    "    mapping_file = pd.read_table(mapping, header=0, index_col=0)\n",
    "    alpha_diversity = pd.read_table(alpha_div, header=0, index_col=0)\n",
    "    merged = pd.concat([alpha_diversity[alpha_metric], otu_table, mapping_file[mapping_classes]], axis=1 )\n",
    "    return merged"
   ]
  },
  {
   "cell_type": "code",
   "execution_count": 97,
   "metadata": {},
   "outputs": [],
   "source": [
    "cc_merged = read_merge(\"CC/OTUs_Table-norm-rel.tab\", \"CC/alpha-diversity.tab\", \"CC/mapping_file.tab\")\n",
    "tissue_merged = read_merge(\"tissue/OTUs_Table-norm-rel.tab\", \"tissue/alpha-diversity.tab\", \"tissue/mapping_file.tab\")"
   ]
  },
  {
   "cell_type": "code",
   "execution_count": 98,
   "metadata": {},
   "outputs": [],
   "source": [
    "X_cc = cc_merged.drop(\"Phenotype\", axis=1)\n",
    "y_cc = cc_merged.Phenotype\n",
    "X_tissue = tissue_merged.drop(\"Phenotype\", axis=1)\n",
    "y_tissue = tissue_merged.Phenotype"
   ]
  },
  {
   "cell_type": "code",
   "execution_count": 99,
   "metadata": {},
   "outputs": [],
   "source": [
    "X_cc_train, X_cc_test, y_cc_train, y_cc_test = train_test_split(X_cc, y_cc, random_state=42)\n",
    "X_tissue_train, X_tissue_test, y_tissue_train, y_tissue_test = train_test_split(X_tissue, y_tissue, random_state=42)"
   ]
  },
  {
   "cell_type": "code",
   "execution_count": 93,
   "metadata": {},
   "outputs": [
    {
     "name": "stdout",
     "output_type": "stream",
     "text": [
      "Accuracy of Random Forest Classifier: 0.785714285714\n"
     ]
    }
   ],
   "source": [
    "clf = RandomForestClassifier(n_estimators=500,random_state=42,criterion='entropy', n_jobs=-1)\n",
    "\n",
    "cc_RF = clf.fit(X_cc_train, y_cc_train)\n",
    "tissue_RF = clf.fit(X_tissue_train, y_tissue_train)\n",
    "\n",
    "print (\"Accuracy of Random Forest Classifier: \"+str(clf_cc.score(X_cc_test,y_cc_test)))"
   ]
  },
  {
   "cell_type": "code",
   "execution_count": null,
   "metadata": {},
   "outputs": [],
   "source": []
  },
  {
   "cell_type": "code",
   "execution_count": null,
   "metadata": {},
   "outputs": [],
   "source": []
  },
  {
   "cell_type": "code",
   "execution_count": null,
   "metadata": {},
   "outputs": [],
   "source": []
  },
  {
   "cell_type": "code",
   "execution_count": null,
   "metadata": {},
   "outputs": [],
   "source": []
  },
  {
   "cell_type": "code",
   "execution_count": null,
   "metadata": {},
   "outputs": [],
   "source": []
  }
 ],
 "metadata": {
  "kernelspec": {
   "display_name": "Python [conda env:SC]",
   "language": "python",
   "name": "conda-env-SC-py"
  },
  "language_info": {
   "codemirror_mode": {
    "name": "ipython",
    "version": 3
   },
   "file_extension": ".py",
   "mimetype": "text/x-python",
   "name": "python",
   "nbconvert_exporter": "python",
   "pygments_lexer": "ipython3",
   "version": "3.6.1"
  }
 },
 "nbformat": 4,
 "nbformat_minor": 2
}
