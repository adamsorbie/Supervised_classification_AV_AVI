{
 "cells": [
  {
   "cell_type": "code",
   "execution_count": 16,
   "metadata": {},
   "outputs": [],
   "source": [
    "import pandas as pd\n",
    "import numpy as np \n",
    "from sklearn.ensemble import RandomForestClassifier\n",
    "from sklearn.model_selection import train_test_split\n",
    "from sklearn.model_selection import KFold\n",
    "from sklearn.metrics import roc_auc_score, roc_curve\n",
    "from sklearn.model_selection import cross_val_score\n",
    "from sklearn.svm import SVC\n",
    "from sklearn.neighbors import KNeighborsClassifier\n",
    "from sklearn.metrics import roc_auc_score\n",
    "from sklearn.metrics import roc_curve\n",
    "from sklearn.metrics import confusion_matrix\n",
    "from sklearn.preprocessing import LabelEncoder\n",
    "import matplotlib.pyplot as plt\n",
    "%matplotlib inline"
   ]
  },
  {
   "cell_type": "markdown",
   "metadata": {},
   "source": [
    "###  Can tissue associated microbiota profiles predict phenotype with greater accuracy than caecal content microbiota? \n"
   ]
  },
  {
   "cell_type": "code",
   "execution_count": 17,
   "metadata": {},
   "outputs": [],
   "source": [
    "# read in files and merge shannon.effective column from alpha-diverstiy table with otu table and classes from mapping file\n",
    "def read_merge(otu, alpha_div, mapping, alpha_metric=\"Shannon.effective\", mapping_classes=\"Phenotype\"):\n",
    "    otu_table = pd.read_table(otu, header=0, index_col=0).T\n",
    "    mapping_file = pd.read_table(mapping, header=0, index_col=0)\n",
    "    alpha_diversity = pd.read_table(alpha_div, header=0, index_col=0)\n",
    "    merged = pd.concat([alpha_diversity[alpha_metric], otu_table, mapping_file[mapping_classes]], axis=1 )\n",
    "    X = merged.drop(mapping_classes, axis=1)\n",
    "    y= merged[mapping_classes]\n",
    "    return X,y "
   ]
  },
  {
   "cell_type": "code",
   "execution_count": 18,
   "metadata": {},
   "outputs": [],
   "source": [
    "# merge caecal content files\n",
    "X_cc, y_cc = read_merge(\"CC/OTUs_Table-norm-rel.tab\", \"CC/alpha-diversity.tab\", \"CC/mapping_file.tab\")\n",
    "# merge tissue associated files\n",
    "X_tissue, y_tissue = read_merge(\"tissue/OTUs_Table-norm-rel.tab\", \"tissue/alpha-diversity.tab\", \"tissue/mapping_file.tab\")"
   ]
  },
  {
   "cell_type": "code",
   "execution_count": 19,
   "metadata": {},
   "outputs": [],
   "source": [
    "encoder = LabelEncoder()\n",
    "y_cc = pd.Series(encoder.fit_transform(y_cc), index=y_cc.index, name=y_cc.name)\n",
    "y_tissue = pd.Series(encoder.fit_transform(y_tissue), index=y_tissue.index, name=y_tissue.name)"
   ]
  },
  {
   "cell_type": "markdown",
   "metadata": {},
   "source": [
    "### Classification \n",
    "\n",
    "**Random forest**"
   ]
  },
  {
   "cell_type": "code",
   "execution_count": 26,
   "metadata": {},
   "outputs": [],
   "source": [
    "X_train_cc, X_test_cc, y_train_cc, y_test_cc = train_test_split(X_cc, y_cc, test_size=0.3, random_state=42)\n",
    "X_train_tissue, X_test_tissue, y_train_tissue, y_test_tissue = train_test_split(X_tissue, y_tissue, test_size=0.3, random_state=42)\n",
    "\n",
    "RFCC = RandomForestClassifier(n_estimators=100,random_state=42, n_jobs=-1, oob_score=True)\n",
    "RFT = RandomForestClassifier(n_estimators=100, random_state=42, n_jobs=-1, oob_score=True)\n",
    "\n",
    "RFCCmodel = RFCC.fit(X_train_cc, y_train_cc)\n",
    "RFTmodel = RFT.fit(X_train_tissue, y_train_tissue)"
   ]
  },
  {
   "cell_type": "code",
   "execution_count": 27,
   "metadata": {},
   "outputs": [
    {
     "name": "stdout",
     "output_type": "stream",
     "text": [
      "Predicted labels:  [0 0 0 0 0 1 0 0 1 0 0 0 0 0 0 1 0]\n",
      "Number of mislabeled points out of a total 17 points : 3\n",
      "Predicted labels:  [0 0 0 0 0 0 0 0 0 0 1 0 1 0 1 1 0 0 0]\n",
      "Number of mislabeled points out of a total 19 points : 1\n"
     ]
    }
   ],
   "source": [
    "RFCCpred = RFCCmodel.predict(X_test_cc)\n",
    "RFTpred = RFTmodel.predict(X_test_tissue)\n",
    "print(\"Predicted labels: \", RFCCpred)\n",
    "print(\"Number of mislabeled points out of a total %d points : %d\" % (X_test_cc.shape[0],( y_test_cc!= RFCCpred).sum()))\n",
    "print(\"Predicted labels: \", RFTpred)\n",
    "print(\"Number of mislabeled points out of a total %d points : %d\" % (X_test_tissue.shape[0],( y_test_tissue!= RFTpred).sum()))"
   ]
  },
  {
   "cell_type": "code",
   "execution_count": 28,
   "metadata": {},
   "outputs": [
    {
     "name": "stdout",
     "output_type": "stream",
     "text": [
      "5-fold cross validation average accuracy: 0.864\n",
      "5-fold cross validation average accuracy: 0.931\n"
     ]
    }
   ],
   "source": [
    "kfold = KFold(n_splits=5, random_state=7)\n",
    "modelCV = RandomForestClassifier()\n",
    "scoring = 'accuracy'\n",
    "results_cc = cross_val_score(modelCV, X_train_cc, y_train_cc, cv=kfold, scoring=scoring)\n",
    "print(\"5-fold cross validation average accuracy: %.3f\" % (results_cc.mean()))\n",
    "results_tissue = cross_val_score(modelCV, X_train_tissue, y_train_tissue, cv=kfold, scoring=scoring)\n",
    "print(\"5-fold cross validation average accuracy: %.3f\" % (results_tissue.mean()))"
   ]
  },
  {
   "cell_type": "code",
   "execution_count": 32,
   "metadata": {},
   "outputs": [
    {
     "name": "stdout",
     "output_type": "stream",
     "text": [
      "[[11  0]\n",
      " [ 3  3]]\n",
      "[[14  0]\n",
      " [ 1  4]]\n"
     ]
    }
   ],
   "source": [
    "print(confusion_matrix(y_test_cc, RFCCpred)) \n",
    "print(confusion_matrix(y_test_tissue, RFTpred))"
   ]
  },
  {
   "cell_type": "code",
   "execution_count": 42,
   "metadata": {},
   "outputs": [
    {
     "name": "stdout",
     "output_type": "stream",
     "text": [
      "Area Under the Curve:  0.75\n"
     ]
    },
    {
     "data": {
      "image/png": "[encoded data removed]",
      "text/plain": [
       "<matplotlib.figure.Figure at 0x28497fa6da0>"
      ]
     },
     "metadata": {},
     "output_type": "display_data"
    }
   ],
   "source": [
    "roc_auc_cc = roc_auc_score(y_test_cc, RFCCpred)\n",
    "print(\"Area Under the Curve: \", roc_auc_cc)\n",
    "fpr_cc, tpr_cc, thresholds_cc = roc_curve(y_test_cc, RFCCmodel.predict_proba(X_test_cc)[:,1])\n",
    "plt.figure()\n",
    "plt.plot(fpr_cc, tpr_cc, label='(AUC = %0.2f)' % roc_auc_cc)\n",
    "plt.plot([0, 1], [0, 1],'r--')\n",
    "plt.xlim([0.0, 1.0])\n",
    "plt.ylim([0.0, 1.0])\n",
    "plt.xlabel('False Positive Rate')\n",
    "plt.ylabel('True Positive Rate')\n",
    "plt.title('caecal content')\n",
    "plt.legend(loc=\"lower right\")\n",
    "plt.savefig('Log_ROC')\n",
    "plt.show()"
   ]
  },
  {
   "cell_type": "code",
   "execution_count": 40,
   "metadata": {},
   "outputs": [
    {
     "name": "stdout",
     "output_type": "stream",
     "text": [
      "Area Under the Curve:  0.9\n"
     ]
    },
    {
     "data": {
      "image/png": "[encoded data removed]",
      "text/plain": [
       "<matplotlib.figure.Figure at 0x284982ec278>"
      ]
     },
     "metadata": {},
     "output_type": "display_data"
    }
   ],
   "source": [
    "roc_auc_tissue = roc_auc_score(y_test_tissue, RFTpred)\n",
    "print(\"Area Under the Curve: \", roc_auc_tissue)\n",
    "fpr_t, tpr_t, thresholds_t = roc_curve(y_test_tissue, RFTmodel.predict_proba(X_test_tissue)[:,1])\n",
    "plt.figure()\n",
    "plt.plot(fpr_t, tpr_t, label='(AUC = %0.2f)' % roc_auc_tissue)\n",
    "plt.plot([0, 1], [0, 1],'r--')\n",
    "plt.xlim([0.0, 1.0])\n",
    "plt.ylim([-0.1, 1.05])\n",
    "plt.xlabel('False Positive Rate')\n",
    "plt.ylabel('True Positive Rate')\n",
    "plt.title('tissue')\n",
    "plt.legend(loc=\"lower right\")\n",
    "plt.savefig('Log_ROC')\n",
    "plt.show()"
   ]
  },
  {
   "cell_type": "markdown",
   "metadata": {},
   "source": []
  },
  {
   "cell_type": "code",
   "execution_count": null,
   "metadata": {},
   "outputs": [],
   "source": []
  },
  {
   "cell_type": "code",
   "execution_count": null,
   "metadata": {},
   "outputs": [],
   "source": []
  },
  {
   "cell_type": "code",
   "execution_count": null,
   "metadata": {},
   "outputs": [],
   "source": []
  },
  {
   "cell_type": "code",
   "execution_count": null,
   "metadata": {},
   "outputs": [],
   "source": []
  },
  {
   "cell_type": "code",
   "execution_count": null,
   "metadata": {},
   "outputs": [],
   "source": []
  },
  {
   "cell_type": "code",
   "execution_count": null,
   "metadata": {},
   "outputs": [],
   "source": []
  }
 ],
 "metadata": {
  "kernelspec": {
   "display_name": "Python [conda env:SC]",
   "language": "python",
   "name": "conda-env-SC-py"
  },
  "language_info": {
   "codemirror_mode": {
    "name": "ipython",
    "version": 3
   },
   "file_extension": ".py",
   "mimetype": "text/x-python",
   "name": "python",
   "nbconvert_exporter": "python",
   "pygments_lexer": "ipython3",
   "version": "3.6.1"
  }
 },
 "nbformat": 4,
 "nbformat_minor": 2
}
