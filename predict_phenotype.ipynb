{
 "cells": [
  {
   "cell_type": "code",
   "execution_count": 2,
   "metadata": {},
   "outputs": [],
   "source": [
    "import pandas as pd\n",
    "from sklearn.ensemble import RandomForestClassifier\n",
    "from sklearn.model_selection import train_test_split\n",
    "from sklearn.model_selection import KFold"
   ]
  },
  {
   "cell_type": "code",
   "execution_count": 35,
   "metadata": {},
   "outputs": [],
   "source": [
    "def read_merge(otu, alpha_div, mapping, alpha_metric=\"Shannon.effective\", mapping_classes=\"Phenotype\"):\n",
    "    otu_table = pd.read_table(otu, header=0, index_col=0).T\n",
    "    mapping_file = pd.read_table(mapping, header=0, index_col=0)\n",
    "    alpha_diversity = pd.read_table(alpha_div, header=0, index_col=0)\n",
    "    merged = pd.concat([alpha_diversity[alpha_metric], otu_table, mapping_file[mapping_classes]], axis=1 )\n",
    "    return merged"
   ]
  },
  {
   "cell_type": "code",
   "execution_count": 36,
   "metadata": {},
   "outputs": [],
   "source": [
    "cc_merged = read_merge(\"CC/OTUs_Table-norm-rel.tab\", \"CC/alpha-diversity.tab\", \"CC/mapping_file.tab\")\n",
    "tissue_merged = read_merge(\"tissue/OTUs_Table-norm-rel.tab\", \"tissue/alpha-diversity.tab\", \"tissue/mapping_file.tab\")"
   ]
  },
  {
   "cell_type": "code",
   "execution_count": 42,
   "metadata": {},
   "outputs": [],
   "source": [
    "X_cc = cc_merged.drop(\"Phenotype\", axis=1)\n",
    "y_cc = cc_merged.Phenotype\n",
    "X_tissue = tissue_merged.drop(\"Phenotype\", axis=1)\n",
    "y_tissue = tissue_merged.Phenotype"
   ]
  },
  {
   "cell_type": "code",
   "execution_count": 43,
   "metadata": {},
   "outputs": [],
   "source": [
    "X_cc_train, X_cc_test, y_cc_train, y_cc_test = train_test_split(X_cc, y_cc, test_size=0.3, random_state=42)\n",
    "X_tissue_train, X_tissue_test, y_tissue_train, y_tissue_test = train_test_split(X_cc, y_cc, test_size=0.3, random_state=42)"
   ]
  },
  {
   "cell_type": "code",
   "execution_count": null,
   "metadata": {},
   "outputs": [],
   "source": []
  },
  {
   "cell_type": "code",
   "execution_count": null,
   "metadata": {},
   "outputs": [],
   "source": []
  }
 ],
 "metadata": {
  "kernelspec": {
   "display_name": "Python [conda env:SC]",
   "language": "python",
   "name": "conda-env-SC-py"
  },
  "language_info": {
   "codemirror_mode": {
    "name": "ipython",
    "version": 3
   },
   "file_extension": ".py",
   "mimetype": "text/x-python",
   "name": "python",
   "nbconvert_exporter": "python",
   "pygments_lexer": "ipython3",
   "version": "3.6.1"
  }
 },
 "nbformat": 4,
 "nbformat_minor": 2
}
