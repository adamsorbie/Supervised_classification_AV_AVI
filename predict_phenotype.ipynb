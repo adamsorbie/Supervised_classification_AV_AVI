{
 "cells": [
  {
   "cell_type": "code",
   "execution_count": 11,
   "metadata": {},
   "outputs": [],
   "source": [
    "import pandas as pd\n",
    "import numpy as np \n",
    "from sklearn.ensemble import RandomForestClassifier\n",
    "from sklearn.model_selection import train_test_split\n",
    "from sklearn.model_selection import LeaveOneOut\n",
    "from sklearn.metrics import roc_auc_score, roc_curve\n",
    "from sklearn.model_selection import cross_val_score\n",
    "from sklearn.svm import SVC\n",
    "from sklearn.neighbors import KNeighborsClassifier\n",
    "from sklearn.feature_selection import SelectFromModel\n",
    "from sklearn.pipeline import Pipeline\n",
    "import matplotlib.pyplot as plt\n",
    "%matplotlib inline"
   ]
  },
  {
   "cell_type": "markdown",
   "metadata": {},
   "source": [
    "###  Can tissue associated microbiota profiles predict phenotype with greater accuracy than caecal content microbiota? \n"
   ]
  },
  {
   "cell_type": "code",
   "execution_count": 3,
   "metadata": {},
   "outputs": [],
   "source": [
    "# read in files and merge shannon.effective column from alpha-diverstiy table with otu table and classes from mapping file\n",
    "def read_merge(otu, alpha_div, mapping, alpha_metric=\"Shannon.effective\", mapping_classes=\"Phenotype\"):\n",
    "    otu_table = pd.read_table(otu, header=0, index_col=0).T\n",
    "    mapping_file = pd.read_table(mapping, header=0, index_col=0)\n",
    "    alpha_diversity = pd.read_table(alpha_div, header=0, index_col=0)\n",
    "    merged = pd.concat([alpha_diversity[alpha_metric], otu_table, mapping_file[mapping_classes]], axis=1 )\n",
    "    return merged"
   ]
  },
  {
   "cell_type": "code",
   "execution_count": 4,
   "metadata": {},
   "outputs": [],
   "source": [
    "# merge caecal content files\n",
    "cc_merged = read_merge(\"CC/OTUs_Table-norm-rel.tab\", \"CC/alpha-diversity.tab\", \"CC/mapping_file.tab\")\n",
    "# merge tissue associated files\n",
    "tissue_merged = read_merge(\"tissue/OTUs_Table-norm-rel.tab\", \"tissue/alpha-diversity.tab\", \"tissue/mapping_file.tab\")"
   ]
  },
  {
   "cell_type": "code",
   "execution_count": 5,
   "metadata": {},
   "outputs": [],
   "source": [
    "X_cc = cc_merged.drop(\"Phenotype\", axis=1)\n",
    "y_cc = cc_merged.Phenotype\n",
    "X_tissue = tissue_merged.drop(\"Phenotype\", axis=1)\n",
    "y_tissue = tissue_merged.Phenotype"
   ]
  },
  {
   "cell_type": "markdown",
   "metadata": {},
   "source": [
    "### Classification \n",
    "\n",
    "**Random forest**"
   ]
  },
  {
   "cell_type": "code",
   "execution_count": 9,
   "metadata": {},
   "outputs": [
    {
     "name": "stdout",
     "output_type": "stream",
     "text": [
      "Accuracy: 90.74% (28.99%)\n",
      "Accuracy: 98.39% (12.60%)\n"
     ]
    }
   ],
   "source": [
    "rf_cc = RandomForestClassifier(n_estimators=100,random_state=42, n_jobs=-1, oob_score=True)\n",
    "rf_tissue = RandomForestClassifier(n_estimators=100, random_state=42, n_jobs=-1, oob_score=True)\n",
    "\n",
    "loocv = LeaveOneOut()\n",
    "results_cc = cross_val_score(rf_cc, X_cc, y_cc, cv=loocv, n_jobs=-1)\n",
    "results_tissue = cross_val_score(rf_tissue, X_tissue, y_tissue, cv=loocv, n_jobs=-1)\n",
    "print(\"Accuracy: %.2f%% (%.2f%%)\" % (results_cc.mean()*100.0, results_cc.std()*100.0))\n",
    "print(\"Accuracy: %.2f%% (%.2f%%)\" % (results_tissue.mean()*100.0, results_tissue.std()*100.0))"
   ]
  },
  {
   "cell_type": "markdown",
   "metadata": {},
   "source": [
    "**Support vector machine**"
   ]
  },
  {
   "cell_type": "code",
   "execution_count": 7,
   "metadata": {},
   "outputs": [
    {
     "name": "stdout",
     "output_type": "stream",
     "text": [
      "Accuracy: 81.48% (38.84%)\n",
      "Accuracy: 91.94% (27.23%)\n"
     ]
    }
   ],
   "source": [
    "svm_cc = SVC(random_state=42, gamma='auto', C=1)\n",
    "svm_tissue = SVC(random_state=42, gamma='auto', C=1)\n",
    "\n",
    "results_cc_svm = cross_val_score(svm_cc, X_cc, y_cc, cv=loocv, n_jobs=-1)\n",
    "results_tissue_svm = cross_val_score(svm_tissue, X_tissue, y_tissue, cv=loocv, n_jobs=-1)\n",
    "print(\"Accuracy: %.2f%% (%.2f%%)\" % (results_cc_svm.mean()*100.0, results_cc_svm.std()*100.0))\n",
    "print(\"Accuracy: %.2f%% (%.2f%%)\" % (results_tissue_svm.mean()*100.0, results_tissue_svm.std()*100.0))"
   ]
  },
  {
   "cell_type": "markdown",
   "metadata": {},
   "source": [
    "**K-nearest neighbour** "
   ]
  },
  {
   "cell_type": "code",
   "execution_count": 8,
   "metadata": {},
   "outputs": [
    {
     "name": "stdout",
     "output_type": "stream",
     "text": [
      "Accuracy: 79.63% (40.28%)\n",
      "Accuracy: 91.94% (27.23%)\n"
     ]
    }
   ],
   "source": [
    "knn_cc = KNeighborsClassifier(n_neighbors=5, n_jobs=-1)\n",
    "knn_tissue = KNeighborsClassifier(n_neighbors=5, n_jobs=-1)\n",
    "\n",
    "results_cc_knn = cross_val_score(knn_cc, X_cc, y_cc, cv=loocv, n_jobs=-1)\n",
    "results_tissue_knn = cross_val_score(knn_tissue, X_tissue, y_tissue, cv=loocv, n_jobs=-1)\n",
    "print(\"Accuracy: %.2f%% (%.2f%%)\" % (results_cc_knn.mean()*100.0, results_cc_knn.std()*100.0))\n",
    "print(\"Accuracy: %.2f%% (%.2f%%)\" % (results_tissue_knn.mean()*100.0, results_tissue_knn.std()*100.0))"
   ]
  },
  {
   "cell_type": "markdown",
   "metadata": {},
   "source": [
    "## With feature selection "
   ]
  },
  {
   "cell_type": "markdown",
   "metadata": {},
   "source": [
    "**Random Forest with feature selection**"
   ]
  },
  {
   "cell_type": "code",
   "execution_count": 23,
   "metadata": {},
   "outputs": [
    {
     "data": {
      "text/plain": [
       "Pipeline(steps=[('feature_selection', SelectFromModel(estimator=RandomForestClassifier(bootstrap=True, class_weight=None, criterion='gini',\n",
       "            max_depth=None, max_features='auto', max_leaf_nodes=None,\n",
       "            min_impurity_split=1e-07, min_samples_leaf=1,\n",
       "            min_samples_split=2, min_weig...imators=100, n_jobs=-1, oob_score=False, random_state=42,\n",
       "            verbose=0, warm_start=False))])"
      ]
     },
     "execution_count": 23,
     "metadata": {},
     "output_type": "execute_result"
    }
   ],
   "source": [
    "X_train_cc, X_test_cc, y_train_cc, y_test_cc = train_test_split(X_cc, y_cc, test_size=0.2)\n",
    "\n",
    "clf_cc = Pipeline([\n",
    "  ('feature_selection', SelectFromModel(RandomForestClassifier())),\n",
    "  ('classification', RandomForestClassifier(n_estimators=100, random_state=42, n_jobs=-1))\n",
    "])\n",
    "clf_cc.fit(X_train_cc, y_train_cc)"
   ]
  },
  {
   "cell_type": "code",
   "execution_count": 24,
   "metadata": {},
   "outputs": [
    {
     "name": "stdout",
     "output_type": "stream",
     "text": [
      "Accuracy: 92.78% (5.92%)\n"
     ]
    }
   ],
   "source": [
    "results_clf = cross_val_score(clf_cc, X_train_cc, y_train_cc, cv=5, n_jobs=-1)\n",
    "print(\"Accuracy: %.2f%% (%.2f%%)\" % (results_clf.mean()*100.0, results_clf.std()*100.0))"
   ]
  },
  {
   "cell_type": "code",
   "execution_count": 25,
   "metadata": {},
   "outputs": [
    {
     "data": {
      "text/plain": [
       "Pipeline(steps=[('feature_selection', SelectFromModel(estimator=RandomForestClassifier(bootstrap=True, class_weight=None, criterion='gini',\n",
       "            max_depth=None, max_features='auto', max_leaf_nodes=None,\n",
       "            min_impurity_split=1e-07, min_samples_leaf=1,\n",
       "            min_samples_split=2, min_weig...imators=100, n_jobs=-1, oob_score=False, random_state=42,\n",
       "            verbose=0, warm_start=False))])"
      ]
     },
     "execution_count": 25,
     "metadata": {},
     "output_type": "execute_result"
    }
   ],
   "source": [
    "X_train_tissue, X_test_tissue, y_train_tissue, y_test_tissue = train_test_split(X_tissue, y_tissue, test_size=0.2)\n",
    "\n",
    "clf_tissue = Pipeline([\n",
    "  ('feature_selection', SelectFromModel(RandomForestClassifier())),\n",
    "  ('classification', RandomForestClassifier(n_estimators=100, random_state=42, n_jobs=-1))\n",
    "])\n",
    "clf_cc.fit(X_train_tissue, y_train_tissue)"
   ]
  },
  {
   "cell_type": "code",
   "execution_count": 26,
   "metadata": {},
   "outputs": [
    {
     "name": "stdout",
     "output_type": "stream",
     "text": [
      "Accuracy: 93.78% (5.10%)\n"
     ]
    }
   ],
   "source": [
    "results_clf2 = cross_val_score(clf_tissue, X_train_tissue, y_train_tissue, cv=5, n_jobs=-1)\n",
    "print(\"Accuracy: %.2f%% (%.2f%%)\" % (results_clf2.mean()*100.0, results_clf2.std()*100.0))"
   ]
  },
  {
   "cell_type": "code",
   "execution_count": null,
   "metadata": {},
   "outputs": [],
   "source": []
  },
  {
   "cell_type": "code",
   "execution_count": null,
   "metadata": {},
   "outputs": [],
   "source": []
  }
 ],
 "metadata": {
  "kernelspec": {
   "display_name": "Python [conda env:SC]",
   "language": "python",
   "name": "conda-env-SC-py"
  },
  "language_info": {
   "codemirror_mode": {
    "name": "ipython",
    "version": 3
   },
   "file_extension": ".py",
   "mimetype": "text/x-python",
   "name": "python",
   "nbconvert_exporter": "python",
   "pygments_lexer": "ipython3",
   "version": "3.6.1"
  }
 },
 "nbformat": 4,
 "nbformat_minor": 2
}
